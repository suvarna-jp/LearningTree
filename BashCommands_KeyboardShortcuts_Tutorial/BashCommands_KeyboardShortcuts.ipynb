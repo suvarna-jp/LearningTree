{
 "cells": [
  {
   "cell_type": "markdown",
   "metadata": {},
   "source": [
    "###Common cmd commands"
   ]
  },
  {
   "cell_type": "code",
   "execution_count": null,
   "metadata": {},
   "outputs": [],
   "source": [
    "# To make directory (create folder)\n",
    "\n",
    "mkdir\n",
    "\n",
    "\n",
    "# To change directory\n",
    "\n",
    "cd\n",
    "\n",
    "\n",
    "# To go back to upper folders \n",
    "\n",
    "cd ../  # One level up\n",
    "\n",
    "cd ../../../  # 3 levels up ....and so on...\n",
    "\n",
    "\n",
    "\n",
    "# Use up/down arrow keys to get/scroll between the previously typed commands\n",
    "\n",
    "\n",
    "\n"
   ]
  },
  {
   "cell_type": "markdown",
   "metadata": {},
   "source": [
    "###Some Keyboard Commands/shortcuts for various applications"
   ]
  },
  {
   "cell_type": "code",
   "execution_count": null,
   "metadata": {},
   "outputs": [],
   "source": [
    "# To comment lines\n",
    "\n",
    "<ctrl> + / \n",
    "\n",
    "\n",
    "# To refresh a browser window/page by refreshing the cached data \n",
    "\n",
    "<Ctrl> + <Shift> + R \n",
    "\n",
    "\n",
    "# To execute / run on most of the applications\n",
    "\n",
    "<Ctrl> + <Enter>\n",
    "\n",
    "# To print the current working directory\n",
    "\n",
    "echo %cd%"
   ]
  }
 ],
 "metadata": {
  "kernelspec": {
   "display_name": "Python 3",
   "language": "python",
   "name": "python3"
  },
  "language_info": {
   "codemirror_mode": {
    "name": "ipython",
    "version": 3
   },
   "file_extension": ".py",
   "mimetype": "text/x-python",
   "name": "python",
   "nbconvert_exporter": "python",
   "pygments_lexer": "ipython3",
   "version": "3.7.3"
  }
 },
 "nbformat": 4,
 "nbformat_minor": 2
}
