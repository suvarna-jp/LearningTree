{
 "cells": [
  {
   "cell_type": "markdown",
   "metadata": {},
   "source": [
    "###Hackerank problem #"
   ]
  },
  {
   "cell_type": "markdown",
   "metadata": {},
   "source": [
    "You are given a function . You are also given  lists. The  list consists of  elements.\n",
    "\n",
    "You have to pick one element from each list so that the value from the equation below is maximized:\n",
    "\n",
    "%\n",
    "\n",
    " denotes the element picked from the  list . Find the maximized value  obtained.\n",
    "\n",
    " denotes the modulo operator.\n",
    "\n",
    "Note that you need to take exactly one element from each list, not necessarily the largest element. You add the squares of the chosen elements and perform the modulo operation. The maximum value that you can obtain, will be the answer to the problem.\n",
    "\n",
    "Input Format\n",
    "\n",
    "The first line contains  space separated integers  and .\n",
    "The next  lines each contains an integer , denoting the number of elements in the  list, followed by  space separated integers denoting the elements in the list.\n",
    "\n",
    "Constraints\n",
    "\n",
    "\n",
    "\n",
    "\n",
    "\n",
    "Output Format\n",
    "\n",
    "Output a single integer denoting the value .\n",
    "\n",
    "Sample Input\n",
    "\n",
    "3 1000\n",
    "2 5 4\n",
    "3 7 8 9 \n",
    "5 5 7 8 9 10 \n",
    "Sample Output\n",
    "\n",
    "206\n",
    "Explanation\n",
    "\n",
    "Picking  from the st list,  from the nd list and  from the rd list gives the maximum  value equal to % = ."
   ]
  },
  {
   "cell_type": "markdown",
   "metadata": {},
   "source": [
    "**Long Solution :"
   ]
  },
  {
   "cell_type": "code",
   "execution_count": null,
   "metadata": {},
   "outputs": [],
   "source": [
    "import itertools\n",
    "\n",
    "a = input().split()\n",
    "\n",
    "K = int(a[0])\n",
    "print(K)\n",
    "M = int(a[len(a)-1])\n",
    "print(M)\n",
    "\n",
    "K_lst = []\n",
    "for i in range(K):\n",
    "    lst = input().strip().split()\n",
    "    lst = [int(j) for j in lst]\n",
    "    \n",
    "    print(lst)\n",
    "    K_lst.append(lst)\n",
    "    \n",
    "print(\"K_lst :: \", K_lst)\n",
    "\n",
    "mtxset = set()  \n",
    "matrix_list = list(itertools.product(*K_lst))\n",
    "print(\"BEFORE ::::: matrix_list len :: \", len(matrix_list))\n",
    "print(\"matrix_list :: \", matrix_list)\n",
    "for mtxlst in matrix_list:\n",
    "    tpl = tuple(sorted(mtxlst))\n",
    "    mtxset.add(tpl)\n",
    "    \n",
    "print(\"mtxset :: \", mtxset)\n",
    "matrix_list = list(mtxset)\n",
    "\n",
    "print(\"AFTER :::::: matrix_list len :: \", len(matrix_list))\n",
    "    \n",
    "maxval = 0\n",
    "sum = 0\n",
    "\n",
    "for ml in matrix_list:\n",
    "    for mlitem in range(K):\n",
    "        sum += (ml[mlitem])**2\n",
    "        print(\"sum :: \", sum)\n",
    "    \n",
    "    print(\"Total sum :: \", sum)\n",
    "    if (sum%M) > maxval:\n",
    "        maxval = sum%M\n",
    "    \n",
    "    print(\"ml :: \", ml)\n",
    "    print(\"sum%M :: \", sum%M)\n",
    "    print(\"maxval :: \", maxval)\n",
    "    \n",
    "    sum = 0\n",
    "        \n",
    "print(maxval)"
   ]
  },
  {
   "cell_type": "markdown",
   "metadata": {},
   "source": [
    "**Short & Crisp Solution"
   ]
  },
  {
   "cell_type": "code",
   "execution_count": null,
   "metadata": {},
   "outputs": [],
   "source": [
    "from itertools import product\n",
    "\n",
    "K,M = map(int,input().split())\n",
    "big_list = (list(map(int, input().split()))[1:] for _ in range(K))\n",
    "power_sum = map(lambda x: sum(i**2 for i in x)%M, product(*big_list))\n",
    "\n",
    "print(max(power_sum))"
   ]
  }
 ],
 "metadata": {
  "kernelspec": {
   "display_name": "Python 3",
   "language": "python",
   "name": "python3"
  },
  "language_info": {
   "codemirror_mode": {
    "name": "ipython",
    "version": 3
   },
   "file_extension": ".py",
   "mimetype": "text/x-python",
   "name": "python",
   "nbconvert_exporter": "python",
   "pygments_lexer": "ipython3",
   "version": "3.7.3"
  }
 },
 "nbformat": 4,
 "nbformat_minor": 2
}
