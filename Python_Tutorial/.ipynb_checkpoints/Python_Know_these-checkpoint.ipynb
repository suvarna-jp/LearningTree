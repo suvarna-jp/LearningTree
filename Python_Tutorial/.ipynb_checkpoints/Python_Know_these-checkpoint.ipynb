{
 "cells": [
  {
   "cell_type": "markdown",
   "metadata": {},
   "source": [
    "**Know these :: 01"
   ]
  },
  {
   "cell_type": "raw",
   "metadata": {},
   "source": [
    "# \"is\" vs \"==\"\n",
    "\n",
    ">>> a = [1, 2, 3]\n",
    ">>> b = a\n",
    "\n",
    ">>> a is b\n",
    "True\n",
    ">>> a == b\n",
    "True\n",
    "\n",
    ">>> c = list(a)\n",
    "\n",
    ">>> a == c\n",
    "True\n",
    ">>> a is c\n",
    "False\n",
    "\n",
    "# • \"is\" expressions evaluate to True if two \n",
    "#   variables point to the same object\n",
    "\n",
    "# • \"==\" evaluates to True if the objects \n",
    "#   referred to by the variables are equal"
   ]
  },
  {
   "cell_type": "markdown",
   "metadata": {},
   "source": [
    "**Know these :: 02"
   ]
  },
  {
   "cell_type": "code",
   "execution_count": 26,
   "metadata": {},
   "outputs": [
    {
     "name": "stdout",
     "output_type": "stream",
     "text": [
      "{'a': 1, 'b': 3, 'c': 4}\n",
      "{'a': 1, 'b': 3, 'c': 4}\n"
     ]
    }
   ],
   "source": [
    "# How to merge 2 dictionary objects in Python 3.5+\n",
    "\n",
    "x = {'a':1, 'b':2}\n",
    "y = {'b':3, 'c':4}\n",
    "\n",
    "z = {**x, **y}\n",
    "\n",
    "print(z)                         # z = {'a': 1, 'b': 3, 'c': 4}\n",
    "\n",
    "\n",
    "# In Python 2.x you could\n",
    "# use this:\n",
    "\n",
    "z = dict(x, **y)\n",
    "print(z)                         # z = {'a': 1, 'b': 3, 'c': 4}\n",
    "\n",
    "# In these examples, Python merges dictionary keys\n",
    "# in the order listed in the expression, overwriting \n",
    "# duplicates from left to right.\n"
   ]
  },
  {
   "cell_type": "markdown",
   "metadata": {},
   "source": [
    "**Know these :: 03"
   ]
  },
  {
   "cell_type": "raw",
   "metadata": {},
   "source": [
    "# Converting string to int\n",
    "\n",
    "numstr = \"110\"\n",
    "numint = int(numstr)\n",
    "\n",
    "print(type(numstr)) # <class 'str'>\n",
    "print(type(numint)) # <class 'int'>\n",
    "\n",
    "\n",
    ">>> binary = 0b1010\n",
    ">>> hexadecimal = \"0xa\"\n",
    "\n",
    "b: binary (base 2)\n",
    "o: octal (base 8)\n",
    "d: decimal (base 10)\n",
    "x: hexadecimal (base 16)\n",
    "    \n",
    "\n",
    ">>> decimal = 303\n",
    ">>> hexadecimal_with_prefix = 0x12F\n",
    ">>> hexadecimal_no_prefix = 12F\n",
    "  File \"<stdin>\", line 1\n",
    "    hexadecimal_no_prefix = 12F\n",
    "                              ^\n",
    "SyntaxError: invalid syntax\n",
    "    \n",
    "\n",
    ">>> decimal = \"303\"\n",
    ">>> hexadecimal_with_prefix = \"0x12F\"\n",
    ">>> hexadecimal_no_prefix = \"12F\"\n",
    "\n",
    "\n",
    ">>> int(\"10\")\n",
    "10\n",
    ">>> type(int(\"10\"))\n",
    "<class 'int'>\n",
    "\n",
    ">>> int(\"0x12F\")\n",
    "Traceback (most recent call last):\n",
    "  File \"<stdin>\", line 1, in <module>\n",
    "ValueError: invalid literal for int() with base 10: '0x12F'\n",
    "        \n",
    "\n",
    ">>> binary = \"11010010\"\n",
    ">>> int(binary)  # Using the default base of 10, instead of 2\n",
    "11010010\n",
    "\n",
    "\n",
    ">>> int(\"0b11010010\")\n",
    "Traceback (most recent call last):\n",
    "  File \"<stdin>\", line 1, in <module>\n",
    "ValueError: invalid literal for int() with base 10: '0b11010010'\n",
    "        \n",
    ">>> int(\"0x12F\", base=16)\n",
    "303\n",
    "\n",
    ">>> int(\"10\", base=3)\n",
    "3\n",
    "\n"
   ]
  },
  {
   "cell_type": "raw",
   "metadata": {},
   "source": [
    "# Converting python int to string\n",
    "\n",
    ">>> str(10)\n",
    "'10'\n",
    ">>> type(str(10))\n",
    "<class 'str'>\n",
    "\n",
    ">>> str(0b11010010)\n",
    "'210'\n",
    "\n",
    ">>> octal = 0o1073\n",
    ">>> f\"{octal}\"  # Decimal\n",
    "'571'\n",
    ">>> f\"{octal:x}\"  # Hexadecimal\n",
    "'23b'\n",
    ">>> f\"{octal:b}\"  # Binary\n",
    "'1000111011'\n",
    "\n",
    "\n"
   ]
  },
  {
   "cell_type": "markdown",
   "metadata": {},
   "source": [
    "**Know these :: 04"
   ]
  },
  {
   "cell_type": "raw",
   "metadata": {},
   "source": [
    "# The \"timeit\" module lets you measure the execution\n",
    "# time of small bits of Python code\n",
    "\n",
    ">>> import timeit\n",
    ">>> timeit.timeit('\"-\".join(str(n) for n in range(100))',\n",
    "                  number=10000)\n",
    "\n",
    "0.3412662749997253\n",
    "\n",
    ">>> timeit.timeit('\"-\".join([str(n) for n in range(100)])',\n",
    "                  number=10000)\n",
    "\n",
    "0.2996307989997149\n",
    "\n",
    ">>> timeit.timeit('\"-\".join(map(str, range(100)))',\n",
    "                  number=10000)\n",
    "\n",
    "0.24581470699922647"
   ]
  },
  {
   "cell_type": "markdown",
   "metadata": {},
   "source": [
    "**Know these :: 05"
   ]
  },
  {
   "cell_type": "code",
   "execution_count": 16,
   "metadata": {},
   "outputs": [
    {
     "name": "stdout",
     "output_type": "stream",
     "text": [
      "(1, 0, 1)\n",
      "1 0 1\n",
      "{'x': 1, 'y': 0, 'z': 1}\n",
      "x y z\n",
      "ERROR ::  (<class 'TypeError'>, TypeError(\"'x' is an invalid keyword argument for print()\"), <traceback object at 0x0000018821BA5F88>)\n"
     ]
    }
   ],
   "source": [
    "import sys\n",
    "\n",
    "tuple_vec = (1, 0, 1)\n",
    "dict_vec = {'x': 1, 'y': 0, 'z': 1}\n",
    "\n",
    "print(tuple_vec)   # (1, 0, 1)\n",
    "print(*tuple_vec)   # 1 0 1\n",
    "\n",
    "print(dict_vec)   # {'x': 1, 'y': 0, 'z': 1}\n",
    "print(*dict_vec)   # x y z\n",
    "#print(**dict_vec)   # TypeError: 'x' is an invalid keyword argument for print()\n",
    "\n",
    "try:\n",
    "    print(**dict_vec)\n",
    "except:\n",
    "    print(\"ERROR :: \", sys.exc_info())"
   ]
  },
  {
   "cell_type": "code",
   "execution_count": 25,
   "metadata": {},
   "outputs": [
    {
     "name": "stdout",
     "output_type": "stream",
     "text": [
      "Hi Alice!\n",
      "Hi there!\n"
     ]
    }
   ],
   "source": [
    "# The get() method on dicts\n",
    "# and its \"default\" argument\n",
    "\n",
    "name_for_userid = {\n",
    "    382: \"Alice\",\n",
    "    590: \"Bob\",\n",
    "    951: \"Dilbert\",\n",
    "}\n",
    "\n",
    "def greeting(userid):\n",
    "    return \"Hi %s!\" % name_for_userid.get(userid, \"there\")\n",
    "\n",
    "print(greeting(382))   #\"Hi Alice!\"\n",
    "\n",
    "print(greeting(333333))   #\"Hi there!\""
   ]
  },
  {
   "cell_type": "markdown",
   "metadata": {},
   "source": [
    "**Know these :: 06"
   ]
  },
  {
   "cell_type": "code",
   "execution_count": 23,
   "metadata": {},
   "outputs": [
    {
     "name": "stdout",
     "output_type": "stream",
     "text": [
      "6\n",
      "6\n"
     ]
    }
   ],
   "source": [
    "# The lambda keyword in Python provides a\n",
    "# shortcut for declaring small and\n",
    "# anonymous functions:\n",
    "\n",
    "add = lambda x, y: x + y\n",
    "\n",
    "print(add(4, 2))\n",
    "\n",
    "# You could declare the same add()\n",
    "# function with the def keyword:\n",
    "\n",
    "def addSame(x, y):\n",
    "    return x + y\n",
    "\n",
    "print(addSame(4, 2))\n",
    "\n",
    "\n",
    "# → Lambda functions are single-expression\n",
    "# functions that are not necessarily bound\n",
    "# to a name (they can be anonymous).\n",
    "\n",
    "# → Lambda functions can't use regular\n",
    "# Python statements and always include an\n",
    "# implicit `return` statement.\n",
    "\n"
   ]
  },
  {
   "cell_type": "markdown",
   "metadata": {},
   "source": [
    "**Know these :: 07"
   ]
  },
  {
   "cell_type": "code",
   "execution_count": null,
   "metadata": {},
   "outputs": [],
   "source": [
    "# How to sort a Python dict by value\n",
    "# (== get a representation sorted by value)\n",
    "\n",
    "xs = {'a': 4, 'b': 3, 'c': 2, 'd': 1}\n",
    "\n",
    "sorted(xs.items(), key=lambda x: x[1])      # [('d', 1), ('c', 2), ('b', 3), ('a', 4)]\n",
    "\n",
    "# Or:\n",
    "\n",
    "import operator\n",
    "\n",
    "sorted(xs.items(), key=operator.itemgetter(1))       # [('d', 1), ('c', 2), ('b', 3), ('a', 4)]"
   ]
  },
  {
   "cell_type": "markdown",
   "metadata": {},
   "source": [
    "**Know these :: 08"
   ]
  },
  {
   "cell_type": "code",
   "execution_count": 3,
   "metadata": {},
   "outputs": [
    {
     "name": "stdout",
     "output_type": "stream",
     "text": [
      "ghi   v_ghi\n",
      "jkl   v_jkl\n"
     ]
    }
   ],
   "source": [
    "# You could use \n",
    "# >>>if type(<element>) is dict \n",
    "# or use \n",
    "# >>>isinstance(<element>, dict) \n",
    "# which would work if you had subclassed dict\n",
    "\n",
    "d = {'abc':'abc','def':{'ghi':'v_ghi','jkl':'v_jkl'}}\n",
    "\n",
    "if(type(d) is dict):\n",
    "    for ele in d.values():\n",
    "        if isinstance(ele,dict):\n",
    "           for k, v in ele.items():\n",
    "               print(k,' ',v)"
   ]
  }
 ],
 "metadata": {
  "kernelspec": {
   "display_name": "Python 3",
   "language": "python",
   "name": "python3"
  },
  "language_info": {
   "codemirror_mode": {
    "name": "ipython",
    "version": 3
   },
   "file_extension": ".py",
   "mimetype": "text/x-python",
   "name": "python",
   "nbconvert_exporter": "python",
   "pygments_lexer": "ipython3",
   "version": "3.7.3"
  }
 },
 "nbformat": 4,
 "nbformat_minor": 2
}
