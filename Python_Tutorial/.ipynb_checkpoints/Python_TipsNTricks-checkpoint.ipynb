{
 "cells": [
  {
   "cell_type": "markdown",
   "metadata": {},
   "source": [
    "Python Tips & Tricks"
   ]
  },
  {
   "cell_type": "markdown",
   "metadata": {},
   "source": [
    "Tip : 1"
   ]
  },
  {
   "cell_type": "code",
   "execution_count": 1,
   "metadata": {},
   "outputs": [
    {
     "name": "stdout",
     "output_type": "stream",
     "text": [
      "1\n"
     ]
    }
   ],
   "source": [
    "# Tip 1\n",
    "\n",
    "condition = True\n",
    "\n",
    "if condition:\n",
    "    x=1\n",
    "else:\n",
    "    x=0\n",
    "    \n",
    "print(x)"
   ]
  },
  {
   "cell_type": "code",
   "execution_count": 5,
   "metadata": {},
   "outputs": [
    {
     "name": "stdout",
     "output_type": "stream",
     "text": [
      "1\n"
     ]
    }
   ],
   "source": [
    "# Above same code can be written in a simpler, shorter form\n",
    "\n",
    "condition = True\n",
    "\n",
    "x=1 if condition else 0\n",
    "    \n",
    "print(x)"
   ]
  },
  {
   "cell_type": "code",
   "execution_count": 11,
   "metadata": {},
   "outputs": [
    {
     "ename": "SyntaxError",
     "evalue": "invalid syntax (<ipython-input-11-03d07b83dd33>, line 4)",
     "output_type": "error",
     "traceback": [
      "\u001b[1;36m  File \u001b[1;32m\"<ipython-input-11-03d07b83dd33>\"\u001b[1;36m, line \u001b[1;32m4\u001b[0m\n\u001b[1;33m    print(condition) if x==1\u001b[0m\n\u001b[1;37m                            ^\u001b[0m\n\u001b[1;31mSyntaxError\u001b[0m\u001b[1;31m:\u001b[0m invalid syntax\n"
     ]
    }
   ],
   "source": [
    "# Note that the else phrase is necessary in this syntax else SyntaxError: invalid syntaxis thrown\n",
    "\n",
    "condition = True\n",
    "x=1\n",
    "\n",
    "print(condition) if x==1"
   ]
  },
  {
   "cell_type": "code",
   "execution_count": 9,
   "metadata": {},
   "outputs": [
    {
     "name": "stdout",
     "output_type": "stream",
     "text": [
      "1\n"
     ]
    }
   ],
   "source": [
    "# It now works because of 'else'\n",
    "\n",
    "print(\"1\") if condition else print(\"0\")"
   ]
  },
  {
   "cell_type": "markdown",
   "metadata": {},
   "source": [
    "Tip : 2"
   ]
  },
  {
   "cell_type": "code",
   "execution_count": 13,
   "metadata": {},
   "outputs": [
    {
     "name": "stdout",
     "output_type": "stream",
     "text": [
      "Both represent same numbers. n2 is more readable while coding\n",
      "n1 :  10000000000\n",
      "n2 :  10000000000\n"
     ]
    }
   ],
   "source": [
    "# Tip 2\n",
    "\n",
    "# Big/Huge numbers can be made readable by inserting '_' underscore character.\n",
    "\n",
    "n1 = 10000000000\n",
    "n2 = 10_000_000_000\n",
    "\n",
    "print(\"Both represent same numbers. n2 is more readable while coding\")\n",
    "print(\"n1 : \", n1)\n",
    "print(\"n2 : \", n2)"
   ]
  },
  {
   "cell_type": "code",
   "execution_count": 16,
   "metadata": {},
   "outputs": [
    {
     "name": "stdout",
     "output_type": "stream",
     "text": [
      "By formatting the string while printing, the output number can be made more readable\n",
      "n1 :  1000000000000\n",
      "n2 :  10000000000\n",
      "TOTAL :: 1,010,000,000,000\n"
     ]
    }
   ],
   "source": [
    "# By formatting the string while printing, the output number can be made more readable\n",
    "\n",
    "n1 = 1000000000000\n",
    "n2 = 10_000_000_000\n",
    "\n",
    "total = n1 + n2\n",
    "\n",
    "print(\"By formatting the string while printing, the output number can be made more readable\")\n",
    "print(\"n1 : \", n1)\n",
    "print(\"n2 : \", n2)\n",
    "print(f'TOTAL :: {total:,}')"
   ]
  },
  {
   "cell_type": "markdown",
   "metadata": {},
   "source": [
    "Tip : 3"
   ]
  },
  {
   "cell_type": "code",
   "execution_count": null,
   "metadata": {},
   "outputs": [],
   "source": [
    "# Tip 3\n",
    "\n",
    "# In the below example, we need to explicitly close the file @ line 3 of the code @ f.close()\n",
    "\n",
    "f = open('test.txt', 'r')\n",
    "\n",
    "file_contents = f.read()\n",
    "\n",
    "f.close()\n",
    "\n",
    "\n",
    "words = file_contents.split(\" \")\n",
    "word_count = len(words)\n",
    "print(word_count)"
   ]
  },
  {
   "cell_type": "code",
   "execution_count": null,
   "metadata": {},
   "outputs": [],
   "source": [
    "# The same can be avoided (and the possibility of forgetting to close can be avoided) by coding in the following way \n",
    "# (by using the context manager) :\n",
    "\n",
    "with open ('test.txt', 'r') as f:\n",
    "    file_contents = f.read()\n",
    "\n",
    "\n",
    "words = file_contents.split(\" \")\n",
    "word_count = len(words)\n",
    "print(word_count)\n",
    "\n",
    "# Not only in the case of File closing, but also The same context manager can be applied \n",
    "# while DB connections are made etc...\n",
    "# While using threads release/lock etc..\n",
    "# Read more about context managers"
   ]
  },
  {
   "cell_type": "markdown",
   "metadata": {},
   "source": [
    "**Tip 4"
   ]
  },
  {
   "cell_type": "code",
   "execution_count": null,
   "metadata": {},
   "outputs": [],
   "source": [
    "# Why Python Is Great:\n",
    "# In-place value swapping\n",
    "\n",
    "# Let's say we want to swap\n",
    "# the values of a and b...\n",
    "a = 23\n",
    "b = 42\n",
    "\n",
    "# The \"classic\" way to do it\n",
    "# with a temporary variable:\n",
    "tmp = a\n",
    "a = b\n",
    "b = tmp\n",
    "\n",
    "# Python also lets us\n",
    "# use this short-hand:\n",
    "a, b = b, a"
   ]
  },
  {
   "cell_type": "code",
   "execution_count": null,
   "metadata": {},
   "outputs": [],
   "source": []
  }
 ],
 "metadata": {
  "kernelspec": {
   "display_name": "Python 3",
   "language": "python",
   "name": "python3"
  },
  "language_info": {
   "codemirror_mode": {
    "name": "ipython",
    "version": 3
   },
   "file_extension": ".py",
   "mimetype": "text/x-python",
   "name": "python",
   "nbconvert_exporter": "python",
   "pygments_lexer": "ipython3",
   "version": "3.7.3"
  }
 },
 "nbformat": 4,
 "nbformat_minor": 2
}
